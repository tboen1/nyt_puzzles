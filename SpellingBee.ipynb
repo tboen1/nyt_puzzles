{
 "cells": [
  {
   "cell_type": "markdown",
   "metadata": {},
   "source": [
    "## Spelling Bee\n",
    "\n",
    "The rules of the spelling bee are simple. Given 6 optional letters and 1 required letter, how many words can you make? The minimum word length is three letters, and you get more points for longer words. "
   ]
  },
  {
   "cell_type": "code",
   "execution_count": 1,
   "metadata": {},
   "outputs": [],
   "source": [
    "from tqdm import tqdm"
   ]
  },
  {
   "cell_type": "code",
   "execution_count": 2,
   "metadata": {},
   "outputs": [],
   "source": [
    "def load_words(fp: str = 'words_alpha.txt') -> set:\n",
    "    '''\n",
    "    Loads list of all english words that contain only letters\n",
    "    '''\n",
    "    \n",
    "    with open(fp) as word_file:\n",
    "        valid_words = set(word_file.read().split())\n",
    "\n",
    "    return valid_words"
   ]
  },
  {
   "cell_type": "code",
   "execution_count": 3,
   "metadata": {},
   "outputs": [],
   "source": [
    "all_words = load_words()"
   ]
  },
  {
   "cell_type": "code",
   "execution_count": 6,
   "metadata": {},
   "outputs": [],
   "source": [
    "#todays words\n",
    "\n",
    "required_letter = \"e\"\n",
    "optional_letters = [\"m\", \"k\", \"n\", \"o\", \"f\", \"l\"]\n",
    "\n",
    "all_letters = set(optional_letters + [required_letter])"
   ]
  },
  {
   "cell_type": "code",
   "execution_count": 5,
   "metadata": {},
   "outputs": [
    {
     "name": "stderr",
     "output_type": "stream",
     "text": [
      "100%|██████████| 370105/370105 [00:00<00:00, 1050787.71it/s]"
     ]
    },
    {
     "name": "stdout",
     "output_type": "stream",
     "text": [
      "122 valid words found!\n"
     ]
    },
    {
     "name": "stderr",
     "output_type": "stream",
     "text": [
      "\n"
     ]
    }
   ],
   "source": [
    "valid_words = []\n",
    "for word in tqdm(all_words, total = len(all_words)):\n",
    "    if set(word) <= all_letters and required_letter in word and len(word) > 3:\n",
    "        valid_words.append(word)\n",
    "        \n",
    "print(\"{} valid words found!\".format(len(valid_words)))\n",
    "        \n",
    "valid_words = sorted(valid_words, key = lambda x: len(x))[::-1]"
   ]
  },
  {
   "cell_type": "code",
   "execution_count": null,
   "metadata": {},
   "outputs": [],
   "source": []
  }
 ],
 "metadata": {
  "kernelspec": {
   "display_name": "Python 3",
   "language": "python",
   "name": "python3"
  },
  "language_info": {
   "codemirror_mode": {
    "name": "ipython",
    "version": 3
   },
   "file_extension": ".py",
   "mimetype": "text/x-python",
   "name": "python",
   "nbconvert_exporter": "python",
   "pygments_lexer": "ipython3",
   "version": "3.7.1"
  }
 },
 "nbformat": 4,
 "nbformat_minor": 2
}

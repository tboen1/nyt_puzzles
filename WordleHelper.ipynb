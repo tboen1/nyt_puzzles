{
 "cells": [
  {
   "cell_type": "code",
   "execution_count": 1,
   "metadata": {},
   "outputs": [
    {
     "data": {
      "text/plain": [
       "'/Users/josephboen/Desktop/Stanford/nyt_puzzles'"
      ]
     },
     "execution_count": 1,
     "metadata": {},
     "output_type": "execute_result"
    }
   ],
   "source": [
    "pwd"
   ]
  },
  {
   "cell_type": "code",
   "execution_count": 2,
   "metadata": {},
   "outputs": [
    {
     "name": "stdout",
     "output_type": "stream",
     "text": [
      "README.md           WordleHelper.ipynb  spelling_bee.py~    wordle-La.txt\r\n",
      "SpellingBee.ipynb   spelling_bee.py     unigram_freq.csv    words_alpha.txt\r\n"
     ]
    }
   ],
   "source": [
    "ls"
   ]
  },
  {
   "cell_type": "code",
   "execution_count": 47,
   "metadata": {},
   "outputs": [],
   "source": [
    "from tqdm import tqdm"
   ]
  },
  {
   "cell_type": "code",
   "execution_count": 3,
   "metadata": {},
   "outputs": [],
   "source": [
    "def load_words(fp: str = 'wordle-La.txt') -> set:\n",
    "    '''\n",
    "    Loads list of all english words that contain only letters\n",
    "    \n",
    "    Params:\n",
    "        fp: file path to wordle word list\n",
    "    '''\n",
    "    \n",
    "    with open(fp) as word_file:\n",
    "        valid_words = set(word_file.read().split())\n",
    "\n",
    "    return valid_words"
   ]
  },
  {
   "cell_type": "code",
   "execution_count": 4,
   "metadata": {},
   "outputs": [],
   "source": [
    "all_words = load_words()"
   ]
  },
  {
   "cell_type": "code",
   "execution_count": 25,
   "metadata": {},
   "outputs": [],
   "source": [
    "def check_words(all_words: set, gray: set, green: dict, yellow: dict) -> set:\n",
    "    '''\n",
    "    Filters list of words to see which match wordle conditions\n",
    "    \n",
    "    Params:\n",
    "        all_words: words to check\n",
    "        gray: letters to exclude\n",
    "        green: letters to include with correct positions\n",
    "        yellow: letters to include with incorrect positions\n",
    "    \n",
    "    Returns: \n",
    "        set of valid words\n",
    "    '''\n",
    "\n",
    "    valid_words = set()\n",
    "    for word in all_words:\n",
    "\n",
    "        letters = set(word)\n",
    "\n",
    "        if len(gray.intersection(letters)) == 0:\n",
    "            exclude_check = True\n",
    "        else:\n",
    "            exclude_check = False\n",
    "\n",
    "        yellow_check = True\n",
    "        for pos, char in yellow.items():  \n",
    "            if word[pos] == char or char not in letters:\n",
    "                yellow_check = False\n",
    "\n",
    "        green_check = True\n",
    "        for pos, char in green.items():\n",
    "            if word[pos] != char:\n",
    "                green_check = False\n",
    "\n",
    "        if exclude_check and yellow_check and green_check:\n",
    "            valid_words.add(word)\n",
    "            \n",
    "    return valid_words\n",
    "\n",
    "def parse_board(board: list):\n",
    "    '''\n",
    "    Parses wordle board\n",
    "    \n",
    "    Note: Gray -> X, Yellow -> Y, Green -> G\n",
    "    \n",
    "    Example:\n",
    "        first guess: \"adieu\" yields \"gray, yellow, gray, gray, yellow\"\n",
    "        second guess: \"bound\" yields \"gray, green, green, green, green\"\n",
    "        \n",
    "        then board = [(\"adieu\", \"XYXXY\"), (\"bound\", \"XGGGG\")]\n",
    "    \n",
    "    Param:\n",
    "        board: list of tuples containing guesses and outputs\n",
    "        \n",
    "    Returns:\n",
    "        conditions: dictionary of conditions\n",
    "    \n",
    "    '''\n",
    "    \n",
    "    conditions = {\"gray\": set(), \n",
    "                  \"green\": {}, \n",
    "                  \"yellow\": {}}\n",
    "\n",
    "\n",
    "    for guess, output in board:\n",
    "        assert len(guess) == len(output), (\"guess and output are different lengths!\")\n",
    "        assert set(output).issubset(set(\"XYG\")), (\"outputs must be X,Y, or G!\")\n",
    "\n",
    "        for idx, (letter, color) in enumerate(zip(guess, output)):\n",
    "            if color == \"X\":\n",
    "                conditions[\"gray\"].add(letter)\n",
    "\n",
    "            if color == \"Y\":\n",
    "                conditions[\"yellow\"][idx] = letter\n",
    "\n",
    "            if color == \"G\":\n",
    "                conditions[\"green\"][idx] = letter\n",
    "                \n",
    "    return conditions"
   ]
  },
  {
   "cell_type": "code",
   "execution_count": 36,
   "metadata": {},
   "outputs": [],
   "source": [
    "gray = set()\n",
    "green = {}\n",
    "yellow = {}"
   ]
  },
  {
   "cell_type": "code",
   "execution_count": 37,
   "metadata": {},
   "outputs": [
    {
     "data": {
      "text/plain": [
       "2315"
      ]
     },
     "execution_count": 37,
     "metadata": {},
     "output_type": "execute_result"
    }
   ],
   "source": [
    "valid_words = check_words(all_words, gray, green, yellow)\n",
    "len(valid_words)"
   ]
  },
  {
   "cell_type": "code",
   "execution_count": 44,
   "metadata": {},
   "outputs": [],
   "source": [
    "gray = set(\"aie\")\n",
    "green = {}\n",
    "yellow = {1:\"d\", 4:\"u\"}"
   ]
  },
  {
   "cell_type": "code",
   "execution_count": 45,
   "metadata": {},
   "outputs": [
    {
     "data": {
      "text/plain": [
       "30"
      ]
     },
     "execution_count": 45,
     "metadata": {},
     "output_type": "execute_result"
    }
   ],
   "source": [
    "valid_words = check_words(all_words, gray, green, yellow)\n",
    "len(valid_words)"
   ]
  },
  {
   "cell_type": "code",
   "execution_count": 48,
   "metadata": {},
   "outputs": [
    {
     "name": "stderr",
     "output_type": "stream",
     "text": [
      "100%|██████████| 1000/1000 [00:02<00:00, 384.50it/s]\n"
     ]
    }
   ],
   "source": [
    "for i in tqdm(range(1000)):\n",
    "    valid_words = check_words(all_words, gray, green, yellow)"
   ]
  },
  {
   "cell_type": "code",
   "execution_count": 46,
   "metadata": {},
   "outputs": [
    {
     "name": "stdout",
     "output_type": "stream",
     "text": [
      "2.74 ms ± 48.7 µs per loop (mean ± std. dev. of 7 runs, 100 loops each)\n"
     ]
    }
   ],
   "source": [
    "%timeit check_words(all_words, gray, green, yellow)"
   ]
  },
  {
   "cell_type": "code",
   "execution_count": 41,
   "metadata": {},
   "outputs": [],
   "source": [
    "gray = set(\"aieb\")\n",
    "green = {1:\"o\", 2:\"u\", 3:\"n\", 4:\"d\"}\n",
    "yellow = {1:\"d\", 4:\"u\"}"
   ]
  },
  {
   "cell_type": "code",
   "execution_count": 42,
   "metadata": {},
   "outputs": [
    {
     "data": {
      "text/plain": [
       "7"
      ]
     },
     "execution_count": 42,
     "metadata": {},
     "output_type": "execute_result"
    }
   ],
   "source": [
    "valid_words = check_words(all_words, gray, green, yellow)\n",
    "len(valid_words)"
   ]
  },
  {
   "cell_type": "code",
   "execution_count": 43,
   "metadata": {},
   "outputs": [
    {
     "data": {
      "text/plain": [
       "{'found', 'hound', 'mound', 'pound', 'round', 'sound', 'wound'}"
      ]
     },
     "execution_count": 43,
     "metadata": {},
     "output_type": "execute_result"
    }
   ],
   "source": [
    "valid_words"
   ]
  },
  {
   "cell_type": "code",
   "execution_count": 52,
   "metadata": {},
   "outputs": [
    {
     "data": {
      "text/plain": [
       "({'a', 'b', 'e', 'i'}, {1: 'o', 2: 'u', 3: 'n', 4: 'd'}, {1: 'd', 4: 'u'})"
      ]
     },
     "execution_count": 52,
     "metadata": {},
     "output_type": "execute_result"
    }
   ],
   "source": [
    "gray_line = [\"a_ie_\", \"b____\"]\n",
    "green_line = [\"\", \"_ound\"]\n",
    "yellow_line = [\"_d__u\", \"\"]\n",
    "\n",
    "def parse_lines(gray_line, green_line, yellow_line):\n",
    "    \n",
    "    gray = set()\n",
    "    for line in gray_line:\n",
    "        for char in list(line):\n",
    "            if char.isalpha():\n",
    "                gray.add(char)\n",
    "                \n",
    "    green = {}\n",
    "    for line in green_line:\n",
    "        for idx, char in enumerate(list(line)):\n",
    "            if char.isalpha():\n",
    "                green[idx] = char\n",
    "                \n",
    "    yellow = {}\n",
    "    for line in yellow_line:\n",
    "        for idx, char in enumerate(list(line)):\n",
    "            if char.isalpha():\n",
    "                yellow[idx] = char\n",
    "            \n",
    "    return gray, green, yellow\n",
    "\n",
    "parse_lines(gray_line, green_line, yellow_line)"
   ]
  },
  {
   "cell_type": "code",
   "execution_count": 62,
   "metadata": {},
   "outputs": [],
   "source": [
    "board = [(\"adieu\", \"XYXXY\"), (\"bound\", \"XGGGG\")]\n",
    "\n",
    "#guess = \"adieu\"\n",
    "#output = \"XYXXG\""
   ]
  },
  {
   "cell_type": "code",
   "execution_count": 94,
   "metadata": {},
   "outputs": [],
   "source": [
    "def parse_board(board: list):\n",
    "    '''\n",
    "    Parses wordle board\n",
    "    \n",
    "    Note: Gray -> X, Yellow -> Y, Green -> G\n",
    "    \n",
    "    Example:\n",
    "        first guess: \"adieu\" yields \"gray, yellow, gray, gray, yellow\"\n",
    "        second guess: \"bound\" yields \"gray, green, green, green, green\"\n",
    "        \n",
    "        this can be inputted as in [\"adieu\", \"XYXXY\",\"bound\", \"XGGGG\"]\n",
    "    \n",
    "    Param:\n",
    "        board: list of tuples containing guesses and outputs\n",
    "        \n",
    "    Returns:\n",
    "        conditions: dictionary of conditions\n",
    "    \n",
    "    '''\n",
    "    \n",
    "    assert len(board)%2 == 0, (\"unequal number of guesses and outputs!\")\n",
    "    \n",
    "    reshaped_board = np.asarray(board).reshape((2,int(len(board)/2)))\n",
    "    \n",
    "    conditions = {\"gray\": set(), \n",
    "                  \"green\": {}, \n",
    "                  \"yellow\": {}}\n",
    "    \n",
    "    for guess, output in reshaped_board:\n",
    "        assert len(guess) == len(output), (\"guess and output are different lengths!\")\n",
    "        assert set(output).issubset(set(\"XYG\")), (\"outputs must be X,Y, or G!\")\n",
    "\n",
    "        for idx, (letter, color) in enumerate(zip(guess, output)):\n",
    "            if color == \"X\":\n",
    "                conditions[\"gray\"].add(letter)\n",
    "\n",
    "            if color == \"Y\":\n",
    "                conditions[\"yellow\"][idx] = letter\n",
    "\n",
    "            if color == \"G\":\n",
    "                conditions[\"green\"][idx] = letter\n",
    "                \n",
    "    return conditions"
   ]
  },
  {
   "cell_type": "code",
   "execution_count": 95,
   "metadata": {},
   "outputs": [
    {
     "data": {
      "text/plain": [
       "{'gray': {'a', 'b', 'e', 'i'},\n",
       " 'green': {1: 'o', 2: 'a', 3: 'r', 4: 'd'},\n",
       " 'yellow': {1: 'd', 4: 'u'}}"
      ]
     },
     "execution_count": 95,
     "metadata": {},
     "output_type": "execute_result"
    }
   ],
   "source": [
    "parse_board([\"adieu\", \"XYXXY\", \"board\", \"XGGGG\"])"
   ]
  },
  {
   "cell_type": "code",
   "execution_count": 64,
   "metadata": {},
   "outputs": [
    {
     "data": {
      "text/plain": [
       "{'a', 'b', 'e', 'i'}"
      ]
     },
     "execution_count": 64,
     "metadata": {},
     "output_type": "execute_result"
    }
   ],
   "source": [
    "gray"
   ]
  },
  {
   "cell_type": "code",
   "execution_count": 65,
   "metadata": {},
   "outputs": [
    {
     "data": {
      "text/plain": [
       "{1: 'o', 2: 'u', 3: 'n', 4: 'd'}"
      ]
     },
     "execution_count": 65,
     "metadata": {},
     "output_type": "execute_result"
    }
   ],
   "source": [
    "green"
   ]
  },
  {
   "cell_type": "code",
   "execution_count": 66,
   "metadata": {},
   "outputs": [
    {
     "data": {
      "text/plain": [
       "{1: 'd', 4: 'u'}"
      ]
     },
     "execution_count": 66,
     "metadata": {},
     "output_type": "execute_result"
    }
   ],
   "source": [
    "yellow"
   ]
  },
  {
   "cell_type": "code",
   "execution_count": 68,
   "metadata": {},
   "outputs": [
    {
     "data": {
      "text/plain": [
       "{'gray': {'a', 'b', 'e', 'i'},\n",
       " 'green': {1: 'o', 2: 'u', 3: 'n', 4: 'd'},\n",
       " 'yellow': {1: 'd', 4: 'u'}}"
      ]
     },
     "execution_count": 68,
     "metadata": {},
     "output_type": "execute_result"
    }
   ],
   "source": [
    "parse_board(board)"
   ]
  },
  {
   "cell_type": "code",
   "execution_count": 71,
   "metadata": {},
   "outputs": [],
   "source": [
    "help_message = (\n",
    "    \n",
    "    '''\n",
    "    \n",
    "    wordle board\n",
    "    \n",
    "    Note: Gray -> X, Yellow -> Y, Green -> G\n",
    "\n",
    "    Example:\n",
    "        first guess: \"adieu\" yields \"gray, yellow, gray, gray, yellow\"\n",
    "        second guess: \"bound\" yields \"gray, green, green, green, green\"\n",
    "\n",
    "        then board = [(\"adieu\", \"XYXXY\"), (\"bound\", \"XGGGG\")]\n",
    "    \n",
    "    '''\n",
    "    )"
   ]
  },
  {
   "cell_type": "code",
   "execution_count": 72,
   "metadata": {},
   "outputs": [
    {
     "name": "stdout",
     "output_type": "stream",
     "text": [
      "\n",
      "    \n",
      "    wordle board\n",
      "    \n",
      "    Note: Gray -> X, Yellow -> Y, Green -> G\n",
      "\n",
      "    Example:\n",
      "        first guess: \"adieu\" yields \"gray, yellow, gray, gray, yellow\"\n",
      "        second guess: \"bound\" yields \"gray, green, green, green, green\"\n",
      "\n",
      "        then board = [(\"adieu\", \"XYXXY\"), (\"bound\", \"XGGGG\")]\n",
      "    \n",
      "    \n"
     ]
    }
   ],
   "source": [
    "print(help_message)"
   ]
  },
  {
   "cell_type": "code",
   "execution_count": 87,
   "metadata": {},
   "outputs": [],
   "source": [
    "import numpy as np"
   ]
  },
  {
   "cell_type": "code",
   "execution_count": 112,
   "metadata": {},
   "outputs": [
    {
     "data": {
      "text/plain": [
       "[('adieu', 'XYXXY')]"
      ]
     },
     "execution_count": 112,
     "metadata": {},
     "output_type": "execute_result"
    }
   ],
   "source": [
    "#board = np.asarray([\"adieu\", \"XYXXY\", \"bound\", \"XGGGG\"])\n",
    "#board = np.asarray([\"adieu\", \"XYXXY\"])\n",
    "\n",
    "board = [\"adieu\", \"XYXXY\"]\n",
    "\n",
    "reshaped_board = [(board[i], board[i + 1]) for i in range(0, len(board), 2)]\n",
    "\n",
    "reshaped_board"
   ]
  },
  {
   "cell_type": "code",
   "execution_count": 109,
   "metadata": {},
   "outputs": [
    {
     "data": {
      "text/plain": [
       "(2, 1)"
      ]
     },
     "execution_count": 109,
     "metadata": {},
     "output_type": "execute_result"
    }
   ],
   "source": [
    "reshaped_board = board.reshape((2,int(len(board)/2)))\n",
    "reshaped_board.shape"
   ]
  },
  {
   "cell_type": "code",
   "execution_count": 110,
   "metadata": {},
   "outputs": [
    {
     "ename": "ValueError",
     "evalue": "not enough values to unpack (expected 2, got 1)",
     "output_type": "error",
     "traceback": [
      "\u001b[0;31m---------------------------------------------------------------------------\u001b[0m",
      "\u001b[0;31mValueError\u001b[0m                                Traceback (most recent call last)",
      "\u001b[0;32m<ipython-input-110-0e0713c97951>\u001b[0m in \u001b[0;36m<module>\u001b[0;34m()\u001b[0m\n\u001b[0;32m----> 1\u001b[0;31m \u001b[0;32mfor\u001b[0m \u001b[0mguess\u001b[0m\u001b[0;34m,\u001b[0m \u001b[0moutput\u001b[0m \u001b[0;32min\u001b[0m \u001b[0mreshaped_board\u001b[0m\u001b[0;34m:\u001b[0m\u001b[0;34m\u001b[0m\u001b[0;34m\u001b[0m\u001b[0m\n\u001b[0m\u001b[1;32m      2\u001b[0m     \u001b[0mprint\u001b[0m\u001b[0;34m(\u001b[0m\u001b[0mguess\u001b[0m\u001b[0;34m,\u001b[0m \u001b[0moutput\u001b[0m\u001b[0;34m)\u001b[0m\u001b[0;34m\u001b[0m\u001b[0;34m\u001b[0m\u001b[0m\n",
      "\u001b[0;31mValueError\u001b[0m: not enough values to unpack (expected 2, got 1)"
     ]
    }
   ],
   "source": [
    "for guess, output in reshaped_board:\n",
    "    print(guess, output)"
   ]
  },
  {
   "cell_type": "code",
   "execution_count": 111,
   "metadata": {},
   "outputs": [
    {
     "data": {
      "text/plain": [
       "array([['adieu'],\n",
       "       ['XYXXY']], dtype='<U5')"
      ]
     },
     "execution_count": 111,
     "metadata": {},
     "output_type": "execute_result"
    }
   ],
   "source": [
    "reshaped_board"
   ]
  },
  {
   "cell_type": "code",
   "execution_count": null,
   "metadata": {},
   "outputs": [],
   "source": []
  }
 ],
 "metadata": {
  "kernelspec": {
   "display_name": "Python 3",
   "language": "python",
   "name": "python3"
  },
  "language_info": {
   "codemirror_mode": {
    "name": "ipython",
    "version": 3
   },
   "file_extension": ".py",
   "mimetype": "text/x-python",
   "name": "python",
   "nbconvert_exporter": "python",
   "pygments_lexer": "ipython3",
   "version": "3.7.1"
  }
 },
 "nbformat": 4,
 "nbformat_minor": 2
}
